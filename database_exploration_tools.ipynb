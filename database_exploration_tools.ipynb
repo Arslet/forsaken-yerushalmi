{
 "cells": [
  {
   "cell_type": "code",
   "execution_count": 1,
   "id": "678a4b2a",
   "metadata": {},
   "outputs": [],
   "source": [
    "import pandas as pd\n",
    "from pymongo import MongoClient\n",
    "\n",
    "client = MongoClient()"
   ]
  },
  {
   "cell_type": "code",
   "execution_count": 3,
   "id": "13d7ad44",
   "metadata": {},
   "outputs": [],
   "source": [
    "#System-specific setup\n",
    "\n",
    "db = client.forsaken\n",
    "book_schemas = db.rawSchemas"
   ]
  },
  {
   "cell_type": "code",
   "execution_count": 54,
   "id": "f8e3dcbb",
   "metadata": {},
   "outputs": [],
   "source": [
    "def get_keys(collection):\n",
    "    KEY_LIST_NAME = \"allkeys\"\n",
    "    \n",
    "    key_aggregation = [\n",
    "      {\"$project\":{\"arrayofkeyvalue\":{\"$objectToArray\":\"$$ROOT\"}}},\n",
    "      {\"$unwind\":\"$arrayofkeyvalue\"},\n",
    "      {\"$group\":{\"_id\":None ,KEY_LIST_NAME:{\"$addToSet\":\"$arrayofkeyvalue.k\"}}}\n",
    "    ]\n",
    "    \n",
    "    aggregation_cursor = collection.aggregate(key_aggregation)\n",
    "    aggregation_dict = aggregation_cursor.next()\n",
    "    key_list = aggregation_dict[KEY_LIST_NAME]\n",
    "    \n",
    "    return key_list"
   ]
  },
  {
   "cell_type": "code",
   "execution_count": 76,
   "id": "edc9671b",
   "metadata": {},
   "outputs": [],
   "source": [
    "def find_all_values(key, collection):\n",
    "    return collection.distinct(key)"
   ]
  }
 ],
 "metadata": {
  "kernelspec": {
   "display_name": "Python 3 (ipykernel)",
   "language": "python",
   "name": "python3"
  },
  "language_info": {
   "codemirror_mode": {
    "name": "ipython",
    "version": 3
   },
   "file_extension": ".py",
   "mimetype": "text/x-python",
   "name": "python",
   "nbconvert_exporter": "python",
   "pygments_lexer": "ipython3",
   "version": "3.9.13"
  }
 },
 "nbformat": 4,
 "nbformat_minor": 5
}
