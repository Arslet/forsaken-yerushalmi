{
 "cells": [
  {
   "cell_type": "code",
   "execution_count": 2,
   "id": "678a4b2a",
   "metadata": {},
   "outputs": [],
   "source": [
    "import pandas as pd\n",
    "from pymongo import MongoClient\n",
    "\n",
    "client = MongoClient()"
   ]
  },
  {
   "cell_type": "code",
   "execution_count": 3,
   "id": "13d7ad44",
   "metadata": {},
   "outputs": [],
   "source": [
    "#System-specific setup\n",
    "\n",
    "db = client.forsaken\n",
    "book_schemas = db.rawSchemas"
   ]
  },
  {
   "cell_type": "code",
   "execution_count": 4,
   "id": "a5974352",
   "metadata": {},
   "outputs": [],
   "source": [
    "def get_keys(collection):\n",
    "    KEY_LIST_NAME = \"allkeys\"\n",
    "    \n",
    "    key_aggregation = [\n",
    "      {\"$project\":{\"arrayofkeyvalue\":{\"$objectToArray\":\"$$ROOT\"}}},\n",
    "      {\"$unwind\":\"$arrayofkeyvalue\"},\n",
    "      {\"$group\":{\"_id\":None ,KEY_LIST_NAME:{\"$addToSet\":\"$arrayofkeyvalue.k\"}}}\n",
    "    ]\n",
    "    \n",
    "    aggregation_cursor = collection.aggregate(key_aggregation)\n",
    "    aggregation_dict = aggregation_cursor.next()\n",
    "    key_list = aggregation_dict[KEY_LIST_NAME]\n",
    "    \n",
    "    return key_list"
   ]
  },
  {
   "cell_type": "code",
   "execution_count": 47,
   "id": "badb33cd",
   "metadata": {},
   "outputs": [],
   "source": [
    "def find_all_values(key, collection):\n",
    "    return collection.distinct(key)"
   ]
  },
  {
   "cell_type": "code",
   "execution_count": 48,
   "id": "e66cc96d",
   "metadata": {},
   "outputs": [],
   "source": [
    "def collection_len(collection):\n",
    "    return collection.count_documents(dict())"
   ]
  },
  {
   "cell_type": "code",
   "execution_count": 61,
   "id": "675e2424",
   "metadata": {},
   "outputs": [],
   "source": [
    "def documents_generator(collection, num_of_documents):\n",
    "    offset = 0\n",
    "    amount_of_documents = collection_len(collection)\n",
    "    \n",
    "    while offset < amount_of_documents:\n",
    "        yield list(collection.find().skip(offset).limit(num_of_documents))\n",
    "        \n",
    "        offset += num_of_documents"
   ]
  }
 ],
 "metadata": {
  "kernelspec": {
   "display_name": "Python 3 (ipykernel)",
   "language": "python",
   "name": "python3"
  },
  "language_info": {
   "codemirror_mode": {
    "name": "ipython",
    "version": 3
   },
   "file_extension": ".py",
   "mimetype": "text/x-python",
   "name": "python",
   "nbconvert_exporter": "python",
   "pygments_lexer": "ipython3",
   "version": "3.9.13"
  }
 },
 "nbformat": 4,
 "nbformat_minor": 5
}
