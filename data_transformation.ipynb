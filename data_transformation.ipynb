{
 "cells": [
  {
   "cell_type": "code",
   "execution_count": 121,
   "id": "7947f4fe",
   "metadata": {},
   "outputs": [],
   "source": [
    "import pandas as pd\n",
    "import numpy as np\n",
    "from pymongo import MongoClient\n",
    "\n",
    "client = MongoClient()"
   ]
  },
  {
   "cell_type": "code",
   "execution_count": 2,
   "id": "22f66481",
   "metadata": {},
   "outputs": [],
   "source": [
    "#System-specific setup\n",
    "\n",
    "db = client.forsaken\n",
    "book_schemas_collection = db.rawSchemas\n",
    "book_links_collection = db.rawLinks"
   ]
  },
  {
   "cell_type": "code",
   "execution_count": 3,
   "id": "b4119e1a",
   "metadata": {},
   "outputs": [],
   "source": [
    "def convert_fields_to_projection_without_id(fields):\n",
    "    remove_id_projection = {\"_id\": 0}\n",
    "    field_projection = {field: 1 for field in fields}\n",
    "    projection = remove_id_projection | field_projection\n",
    "    \n",
    "    return projection"
   ]
  },
  {
   "cell_type": "code",
   "execution_count": 4,
   "id": "9c167afc",
   "metadata": {},
   "outputs": [],
   "source": [
    "def get_entries(collection, projection):\n",
    "    return list(collection.find(projection=projection))"
   ]
  },
  {
   "cell_type": "code",
   "execution_count": 5,
   "id": "c01035e2",
   "metadata": {},
   "outputs": [],
   "source": [
    "book_schema_fields = [\"title\",\n",
    "\"era\",\n",
    "\"compDate\",\n",
    "\"dependence\",\n",
    "\"categories\"]"
   ]
  },
  {
   "cell_type": "code",
   "execution_count": 6,
   "id": "1b9c1c0b",
   "metadata": {},
   "outputs": [],
   "source": [
    "projection = convert_fields_to_projection_without_id(book_schema_fields)\n",
    "book_schemas_list = get_entries(book_schemas_collection, projection)"
   ]
  },
  {
   "cell_type": "code",
   "execution_count": 7,
   "id": "bb14d16f",
   "metadata": {},
   "outputs": [],
   "source": [
    "book_schemas_dataframe = pd.DataFrame(book_schemas_list)"
   ]
  },
  {
   "cell_type": "code",
   "execution_count": 8,
   "id": "1ef05b61",
   "metadata": {},
   "outputs": [],
   "source": [
    "bs = book_schemas_dataframe"
   ]
  },
  {
   "cell_type": "code",
   "execution_count": 105,
   "id": "74cefeb3",
   "metadata": {},
   "outputs": [],
   "source": [
    "def regex_replace_in_field(pattern, replacement, field, dataframe):\n",
    "    match_indexes = dataframe[field].str.match(pattern, na=False)\n",
    "    matches = dataframe[match_indexes][field]\n",
    "    fixed_matches = matches.str.replace(pattern, replacement, regex=True)\n",
    "    \n",
    "    dataframe.loc[match_indexes, field] = fixed_matches"
   ]
  },
  {
   "cell_type": "code",
   "execution_count": 126,
   "id": "c38766de",
   "metadata": {},
   "outputs": [
    {
     "data": {
      "text/plain": [
       "341      300\n",
       "2796    1260\n",
       "Name: compDate, dtype: object"
      ]
     },
     "execution_count": 126,
     "metadata": {},
     "output_type": "execute_result"
    }
   ],
   "source": [
    "from functools import partial\n",
    "\n",
    "replace_date_with_capture = partial(regex_replace_in_field, field=\"compDate\", dataframe=bs)\n",
    "\n",
    "positive_capture = r\"\\1\"\n",
    "negative_capture = r\"-\\1\"\n",
    "\n",
    "replace_date_with_capture(r\"(\\d+)-\\d+\", positive_capture)\n",
    "replace_date_with_capture(r\"(\\d+) BCE?\", negative_capture)\n",
    "replace_date_with_capture(r\"ca?\\.\\s?(\\d+)\", positive_capture)"
   ]
  },
  {
   "cell_type": "code",
   "execution_count": null,
   "id": "6ae87192",
   "metadata": {},
   "outputs": [],
   "source": []
  }
 ],
 "metadata": {
  "kernelspec": {
   "display_name": "Python 3 (ipykernel)",
   "language": "python",
   "name": "python3"
  },
  "language_info": {
   "codemirror_mode": {
    "name": "ipython",
    "version": 3
   },
   "file_extension": ".py",
   "mimetype": "text/x-python",
   "name": "python",
   "nbconvert_exporter": "python",
   "pygments_lexer": "ipython3",
   "version": "3.9.13"
  }
 },
 "nbformat": 4,
 "nbformat_minor": 5
}
