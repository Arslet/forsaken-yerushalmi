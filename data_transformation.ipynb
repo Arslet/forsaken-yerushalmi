{
 "cells": [
  {
   "cell_type": "code",
   "execution_count": 121,
   "id": "7947f4fe",
   "metadata": {},
   "outputs": [],
   "source": [
    "import pandas as pd\n",
    "import numpy as np\n",
    "from pymongo import MongoClient\n",
    "\n",
    "client = MongoClient()"
   ]
  },
  {
   "cell_type": "code",
   "execution_count": 2,
   "id": "22f66481",
   "metadata": {},
   "outputs": [],
   "source": [
    "#System-specific setup\n",
    "\n",
    "db = client.forsaken\n",
    "book_schemas_collection = db.rawSchemas\n",
    "book_links_collection = db.rawLinks"
   ]
  },
  {
   "cell_type": "code",
   "execution_count": 3,
   "id": "b4119e1a",
   "metadata": {},
   "outputs": [],
   "source": [
    "def convert_fields_to_projection_without_id(fields):\n",
    "    remove_id_projection = {\"_id\": 0}\n",
    "    field_projection = {field: 1 for field in fields}\n",
    "    projection = remove_id_projection | field_projection\n",
    "    \n",
    "    return projection"
   ]
  },
  {
   "cell_type": "code",
   "execution_count": 4,
   "id": "9c167afc",
   "metadata": {},
   "outputs": [],
   "source": [
    "def get_entries(collection, projection):\n",
    "    return list(collection.find(projection=projection))"
   ]
  },
  {
   "cell_type": "code",
   "execution_count": 5,
   "id": "c01035e2",
   "metadata": {},
   "outputs": [],
   "source": [
    "book_schema_fields = [\"title\",\n",
    "\"era\",\n",
    "\"compDate\",\n",
    "\"dependence\",\n",
    "\"categories\"]"
   ]
  },
  {
   "cell_type": "code",
   "execution_count": 6,
   "id": "1b9c1c0b",
   "metadata": {},
   "outputs": [],
   "source": [
    "projection = convert_fields_to_projection_without_id(book_schema_fields)\n",
    "book_schemas_list = get_entries(book_schemas_collection, projection)"
   ]
  },
  {
   "cell_type": "code",
   "execution_count": 155,
   "id": "bb14d16f",
   "metadata": {},
   "outputs": [],
   "source": [
    "book_schemas_dataframe = pd.DataFrame(book_schemas_list)"
   ]
  },
  {
   "cell_type": "code",
   "execution_count": 156,
   "id": "1ef05b61",
   "metadata": {},
   "outputs": [],
   "source": [
    "bs = book_schemas_dataframe"
   ]
  },
  {
   "cell_type": "code",
   "execution_count": 133,
   "id": "d59a2953",
   "metadata": {},
   "outputs": [],
   "source": [
    "def regex_replace_in_field(pattern, replacement, field, dataframe):\n",
    "    dataframe.replace(pattern, replacement, regex=True, inplace=True)"
   ]
  },
  {
   "cell_type": "code",
   "execution_count": 166,
   "id": "c38766de",
   "metadata": {},
   "outputs": [],
   "source": [
    "from functools import partial\n",
    "\n",
    "replace_date = partial(regex_replace_in_field, field=\"compDate\", dataframe=bs)\n",
    "\n",
    "positive_capture = r\"\\1\"\n",
    "negative_capture = r\"-\\1\"\n",
    "\n",
    "earlier_date_in_range_pattern = r\"(-?\\d+)-\\d+\"\n",
    "replace_date(earlier_date_in_range_pattern, positive_capture)\n",
    "\n",
    "date_from_circa_date_pattern = r\"ca?\\.\\s*(-?\\d+)\"\n",
    "replace_date(date_from_circa_date_pattern, positive_capture)\n",
    "\n",
    "date_from_bce_date_pattern = r\"(\\d+) BCE?\"\n",
    "replace_date(date_from_bce_date_pattern, negative_capture)"
   ]
  },
  {
   "cell_type": "code",
   "execution_count": 180,
   "id": "1df1353d",
   "metadata": {},
   "outputs": [],
   "source": [
    "invalid_date_pattern = r\"\\d*[^-\\d]+\\d*\"\n",
    "missed_entries = bs[bs[\"compDate\"].str.match(invalid_date_pattern, na=False)]\n",
    "missed_compDates = missed_entries[\"compDate\"]\n",
    "\n",
    "if len(missed_compDates) > 0:\n",
    "    from warnings import warn\n",
    "    warn(f\"These values will be dismissed and converted to NaN: {list(missed_compDates)}\")"
   ]
  },
  {
   "cell_type": "code",
   "execution_count": 188,
   "id": "92aa6b93",
   "metadata": {},
   "outputs": [],
   "source": [
    "numeric_dates = pd.to_numeric(bs[\"compDate\"], errors=\"coerce\")\n",
    "int_dates = numeric_dates.astype(\"Int64\")\n",
    "bs[\"compDate\"] = int_dates"
   ]
  },
  {
   "cell_type": "code",
   "execution_count": 201,
   "id": "5d2005ee",
   "metadata": {},
   "outputs": [
    {
     "data": {
      "text/plain": [
       "2814    1930\n",
       "746     1930\n",
       "3437    1925\n",
       "1395    1920\n",
       "1394    1920\n",
       "        ... \n",
       "4597    <NA>\n",
       "4598    <NA>\n",
       "4599    <NA>\n",
       "4600    <NA>\n",
       "4601    <NA>\n",
       "Name: compDate, Length: 3102, dtype: Int64"
      ]
     },
     "execution_count": 201,
     "metadata": {},
     "output_type": "execute_result"
    }
   ],
   "source": [
    "bs[bs[\"era\"] == \"AH\"][\"compDate\"].sort_values(ascending=False)"
   ]
  },
  {
   "cell_type": "code",
   "execution_count": 199,
   "id": "5bf226b4",
   "metadata": {},
   "outputs": [
    {
     "data": {
      "text/plain": [
       "title                    Otzar Midrashim\n",
       "categories    [Midrash, Aggadic Midrash]\n",
       "era                                   AH\n",
       "compDate                             800\n",
       "dependence                           NaN\n",
       "Name: 2816, dtype: object"
      ]
     },
     "execution_count": 199,
     "metadata": {},
     "output_type": "execute_result"
    }
   ],
   "source": [
    "bs.iloc[2816]"
   ]
  },
  {
   "cell_type": "code",
   "execution_count": null,
   "id": "c8d82b35",
   "metadata": {},
   "outputs": [],
   "source": []
  }
 ],
 "metadata": {
  "kernelspec": {
   "display_name": "Python 3 (ipykernel)",
   "language": "python",
   "name": "python3"
  },
  "language_info": {
   "codemirror_mode": {
    "name": "ipython",
    "version": 3
   },
   "file_extension": ".py",
   "mimetype": "text/x-python",
   "name": "python",
   "nbconvert_exporter": "python",
   "pygments_lexer": "ipython3",
   "version": "3.9.13"
  }
 },
 "nbformat": 4,
 "nbformat_minor": 5
}
