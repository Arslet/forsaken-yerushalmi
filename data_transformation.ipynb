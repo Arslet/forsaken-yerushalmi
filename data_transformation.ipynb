{
 "cells": [
  {
   "cell_type": "code",
   "execution_count": 1,
   "id": "7947f4fe",
   "metadata": {},
   "outputs": [],
   "source": [
    "import pandas as pd\n",
    "from pymongo import MongoClient\n",
    "\n",
    "client = MongoClient()"
   ]
  },
  {
   "cell_type": "code",
   "execution_count": 34,
   "id": "22f66481",
   "metadata": {},
   "outputs": [],
   "source": [
    "#System-specific setup\n",
    "\n",
    "db = client.forsaken\n",
    "book_schemas_collection = db.rawSchemas\n",
    "book_links_collection = db.rawLinks"
   ]
  },
  {
   "cell_type": "code",
   "execution_count": 21,
   "id": "b4119e1a",
   "metadata": {},
   "outputs": [],
   "source": [
    "def convert_fields_to_idless_projection(fields):\n",
    "    idless_projection = {\"_id\": 0}\n",
    "    field_projection = {field: 1 for field in fields}\n",
    "    projection = idless_projection | field_projection\n",
    "    \n",
    "    return projection"
   ]
  },
  {
   "cell_type": "code",
   "execution_count": 32,
   "id": "9c167afc",
   "metadata": {},
   "outputs": [],
   "source": [
    "def get_entries(collection, projection):\n",
    "    return list(collection.find(projection=projection))"
   ]
  },
  {
   "cell_type": "code",
   "execution_count": 18,
   "id": "c01035e2",
   "metadata": {},
   "outputs": [],
   "source": [
    "book_schema_fields = [\"title\",\n",
    "\"era\",\n",
    "\"compDate\",\n",
    "\"dependence\",\n",
    "\"categories\"]"
   ]
  },
  {
   "cell_type": "code",
   "execution_count": 36,
   "id": "1b9c1c0b",
   "metadata": {},
   "outputs": [],
   "source": [
    "projection = convert_fields_to_idless_projection(book_schema_fields)\n",
    "book_schemas_list = get_entries_iterable(book_schemas_collection, projection)"
   ]
  },
  {
   "cell_type": "code",
   "execution_count": 37,
   "id": "bb14d16f",
   "metadata": {},
   "outputs": [],
   "source": [
    "book_schemas_dataframe = pd.DataFrame(book_schemas_list)"
   ]
  },
  {
   "cell_type": "code",
   "execution_count": 38,
   "id": "1ef05b61",
   "metadata": {},
   "outputs": [],
   "source": [
    "bs = book_schemas_dataframe"
   ]
  },
  {
   "cell_type": "code",
   "execution_count": 54,
   "id": "ec9394f4",
   "metadata": {},
   "outputs": [],
   "source": [
    "susCompDates = bs[bs[\"compDate\"].str.match(\"\\d+-\\d+\",na=False)][\"compDate\"]"
   ]
  },
  {
   "cell_type": "code",
   "execution_count": 55,
   "id": "6386698a",
   "metadata": {},
   "outputs": [
    {
     "data": {
      "text/plain": [
       "1956    1830-44\n",
       "3308    2007-10\n",
       "Name: compDate, dtype: object"
      ]
     },
     "execution_count": 55,
     "metadata": {},
     "output_type": "execute_result"
    }
   ],
   "source": [
    "susCompDates"
   ]
  },
  {
   "cell_type": "code",
   "execution_count": 57,
   "id": "ba42f5ef",
   "metadata": {},
   "outputs": [],
   "source": [
    "fixedCompDates = susCompDates.str.split(\"-\").str[0]"
   ]
  },
  {
   "cell_type": "code",
   "execution_count": 59,
   "id": "bfa59efe",
   "metadata": {},
   "outputs": [],
   "source": [
    "bs.loc[bs[\"compDate\"].str.match(\"\\d+-\\d+\",na=False),\"compDate\"] = fixedCompDates"
   ]
  },
  {
   "cell_type": "code",
   "execution_count": 61,
   "id": "c38766de",
   "metadata": {},
   "outputs": [
    {
     "data": {
      "text/plain": [
       "title         Marganita Tava on Sefer HaMitzvot\n",
       "categories               [Halakhah, Commentary]\n",
       "era                                          AH\n",
       "compDate                                   1830\n",
       "dependence                           Commentary\n",
       "Name: 1956, dtype: object"
      ]
     },
     "execution_count": 61,
     "metadata": {},
     "output_type": "execute_result"
    }
   ],
   "source": [
    "bs.iloc[1956]"
   ]
  },
  {
   "cell_type": "code",
   "execution_count": null,
   "id": "f5fca5df",
   "metadata": {},
   "outputs": [],
   "source": []
  }
 ],
 "metadata": {
  "kernelspec": {
   "display_name": "Python 3 (ipykernel)",
   "language": "python",
   "name": "python3"
  },
  "language_info": {
   "codemirror_mode": {
    "name": "ipython",
    "version": 3
   },
   "file_extension": ".py",
   "mimetype": "text/x-python",
   "name": "python",
   "nbconvert_exporter": "python",
   "pygments_lexer": "ipython3",
   "version": "3.9.13"
  }
 },
 "nbformat": 4,
 "nbformat_minor": 5
}
