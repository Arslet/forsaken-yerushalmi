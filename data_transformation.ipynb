{
 "cells": [
  {
   "cell_type": "code",
   "execution_count": 1,
   "id": "7947f4fe",
   "metadata": {},
   "outputs": [],
   "source": [
    "import pandas as pd\n",
    "import numpy as np\n",
    "from pymongo import MongoClient\n",
    "from warnings import warn\n",
    "\n",
    "client = MongoClient()"
   ]
  },
  {
   "cell_type": "code",
   "execution_count": 2,
   "id": "22f66481",
   "metadata": {},
   "outputs": [],
   "source": [
    "#System-specific setup\n",
    "\n",
    "db = client.forsaken\n",
    "book_schemas_collection = db.rawSchemas\n",
    "book_links_collection = db.rawLinks"
   ]
  },
  {
   "cell_type": "code",
   "execution_count": 3,
   "id": "b4119e1a",
   "metadata": {},
   "outputs": [],
   "source": [
    "def convert_fields_to_projection_without_id(fields=dict()):\n",
    "    remove_id_projection = {\"_id\": 0}\n",
    "    field_projection = {field: 1 for field in fields}\n",
    "    projection = remove_id_projection | field_projection\n",
    "    \n",
    "    return projection"
   ]
  },
  {
   "cell_type": "code",
   "execution_count": 4,
   "id": "9c167afc",
   "metadata": {},
   "outputs": [],
   "source": [
    "def get_entries(collection, projection):\n",
    "    return list(collection.find(projection=projection))"
   ]
  },
  {
   "cell_type": "code",
   "execution_count": 5,
   "id": "c01035e2",
   "metadata": {},
   "outputs": [],
   "source": [
    "book_schema_fields = [\"title\",\n",
    "\"era\",\n",
    "\"compDate\",\n",
    "\"dependence\",\n",
    "\"categories\"]"
   ]
  },
  {
   "cell_type": "code",
   "execution_count": 6,
   "id": "1b9c1c0b",
   "metadata": {},
   "outputs": [],
   "source": [
    "book_schemas_projection = convert_fields_to_projection_without_id(book_schema_fields)\n",
    "book_schemas_list = get_entries(book_schemas_collection, book_schemas_projection)\n",
    "\n",
    "book_links_projection = convert_fields_to_projection_without_id()\n",
    "book_links_list = get_entries(book_links_collection, book_links_projection)"
   ]
  },
  {
   "cell_type": "code",
   "execution_count": 7,
   "id": "bb14d16f",
   "metadata": {},
   "outputs": [],
   "source": [
    "book_schemas_dataframe = pd.DataFrame(book_schemas_list)\n",
    "book_links_dataframe = pd.DataFrame(book_links_list)"
   ]
  },
  {
   "cell_type": "code",
   "execution_count": 8,
   "id": "1ef05b61",
   "metadata": {},
   "outputs": [],
   "source": [
    "bs = book_schemas_dataframe\n",
    "bl = book_links_dataframe"
   ]
  },
  {
   "cell_type": "code",
   "execution_count": 9,
   "id": "117cca72",
   "metadata": {},
   "outputs": [],
   "source": [
    "def regex_replace_in_field(pattern, replacement, field, dataframe):\n",
    "    dataframe[field].replace(pattern, replacement, regex=True, inplace=True)"
   ]
  },
  {
   "cell_type": "code",
   "execution_count": 10,
   "id": "c38766de",
   "metadata": {},
   "outputs": [],
   "source": [
    "from functools import partial\n",
    "\n",
    "replace_date = partial(regex_replace_in_field, field=\"compDate\", dataframe=bs)\n",
    "\n",
    "positive_capture = r\"\\1\"\n",
    "negative_capture = r\"-\\1\"\n",
    "\n",
    "earlier_date_in_range_pattern = r\"(-?\\d+)-\\d+\"\n",
    "replace_date(earlier_date_in_range_pattern, positive_capture)\n",
    "\n",
    "date_from_circa_date_pattern = r\"ca?\\.\\s*(-?\\d+)\"\n",
    "replace_date(date_from_circa_date_pattern, positive_capture)\n",
    "\n",
    "date_from_bce_date_pattern = r\"(\\d+) BCE?\"\n",
    "replace_date(date_from_bce_date_pattern, negative_capture)"
   ]
  },
  {
   "cell_type": "code",
   "execution_count": 11,
   "id": "a5928258",
   "metadata": {},
   "outputs": [],
   "source": [
    "invalid_date_pattern = r\"\\d*[^-\\d]+\\d*\"\n",
    "missed_entries = bs[bs[\"compDate\"].str.match(invalid_date_pattern, na=False)]\n",
    "missed_compDates = missed_entries[\"compDate\"]\n",
    "\n",
    "if len(missed_compDates) > 0:\n",
    "    warn(f\"These compDate values will be dismissed and converted to NaN: {list(missed_compDates)}\")"
   ]
  },
  {
   "cell_type": "code",
   "execution_count": 12,
   "id": "911438dc",
   "metadata": {},
   "outputs": [],
   "source": [
    "numeric_dates = pd.to_numeric(bs[\"compDate\"], errors=\"coerce\")\n",
    "int_dates = numeric_dates.astype(\"Int64\")\n",
    "bs[\"compDate\"] = int_dates"
   ]
  },
  {
   "cell_type": "code",
   "execution_count": 13,
   "id": "88d10432",
   "metadata": {},
   "outputs": [],
   "source": [
    "era_string = {\"A\": \"Amoraim\", \"AH\": \"Ahronim\", \"CO\": \"Contemporary\", \"RI\": \"Rishonim\", \"T\": \"Tanaim\"}\n",
    "era_int = {\"T\": 1, \"A\": 2, \"RI\": 3, \"AH\": 4, \"CO\": 5}"
   ]
  },
  {
   "cell_type": "code",
   "execution_count": 14,
   "id": "45c8802c",
   "metadata": {},
   "outputs": [],
   "source": [
    "era_as_mixed_int = bs[\"era\"].replace(era_int)\n",
    "era_as_numeric = pd.to_numeric(era_as_mixed_int, errors=\"coerce\")\n",
    "era_as_int = era_as_numeric.astype(\"Int64\")\n",
    "\n",
    "bs[\"era\"] = era_as_int"
   ]
  },
  {
   "cell_type": "code",
   "execution_count": 15,
   "id": "07ba506c",
   "metadata": {},
   "outputs": [],
   "source": [
    "if not \"is_commentary\" in bs.columns:\n",
    "    is_dependence_commentary = bs.dependence == \"Commentary\"\n",
    "\n",
    "    #Have to use apply because pandas doesn't have operations that support lists in columns.\n",
    "    has_category_commentary = bs.categories.apply(lambda category_list: \"Commentary\" in category_list)\n",
    "\n",
    "    #Have to assign to temporary variable, direct assignment makes the whole column False.\n",
    "    is_any_commentary = is_dependence_commentary | has_category_commentary\n",
    "\n",
    "    bs[\"is_commentary\"] = is_any_commentary\n",
    "    bs.drop(\"dependence\", axis=1, inplace=True)"
   ]
  },
  {
   "cell_type": "code",
   "execution_count": 16,
   "id": "a742cc47",
   "metadata": {},
   "outputs": [],
   "source": [
    "bs[\"is_modern\"] = bs.categories.apply(lambda category_list: \"Modern Works\" in category_list)"
   ]
  },
  {
   "cell_type": "code",
   "execution_count": 17,
   "id": "ec126079",
   "metadata": {},
   "outputs": [
    {
     "name": "stderr",
     "output_type": "stream",
     "text": [
      "C:\\Users\\Yokh\\AppData\\Local\\Temp\\ipykernel_20596\\3958571510.py:8: UserWarning: The following entries have no dating info and will be dropped: 1062                         Halakhot Gedolot\n",
      "1495         Kinnot for Tisha B'Av (Ashkenaz)\n",
      "1792           Machzor Rosh Hashanah Ashkenaz\n",
      "1793    Machzor Rosh Hashanah Ashkenaz Linear\n",
      "1794             Machzor Rosh Hashanah Sefard\n",
      "1796              Machzor Yom Kippur Ashkenaz\n",
      "1797       Machzor Yom Kippur Ashkenaz Linear\n",
      "1798                Machzor Yom Kippur Sefard\n",
      "3423        Seder Tisha B'Av (Edot HaMizrach)\n",
      "3453                  Selichot Edot HaMizrach\n",
      "3454            Selichot Nusach Ashkenaz Lita\n",
      "3455                    Selichot Nusach Polin\n",
      "Name: title, dtype: object\n",
      "  warn(f\"The following entries have no dating info and will be dropped: {no_date_titles}\")\n"
     ]
    }
   ],
   "source": [
    "#Drop all titles without any dating info\n",
    "\n",
    "no_date_mask = bs.era.isna() & bs.compDate.isna() & ~bs.is_modern & ~bs.is_commentary\n",
    "no_date_entries = bs[no_date_mask]\n",
    "no_date_titles = no_date_entries[\"title\"]\n",
    "\n",
    "if len(no_date_entries) > 0:\n",
    "    warn(f\"The following entries have no dating info and will be dropped: {no_date_titles}\")\n",
    "    \n",
    "bs.drop(no_date_entries.index, inplace=True)"
   ]
  },
  {
   "cell_type": "code",
   "execution_count": 18,
   "id": "37e39bd0",
   "metadata": {},
   "outputs": [],
   "source": [
    "self_link_mask = bl[\"Text 1\"] == bl[\"Text 2\"]\n",
    "self_link_entries = bl[self_link_mask]\n",
    "\n",
    "bl.drop(self_link_entries.index, inplace=True)"
   ]
  },
  {
   "cell_type": "code",
   "execution_count": 19,
   "id": "d4c2248d",
   "metadata": {},
   "outputs": [],
   "source": [
    "bs.sort_values([\"compDate\", \"is_modern\", \"era\", \"is_commentary\"], ascending=True, ignore_index=True, inplace=True)\n",
    "bs[\"index\"] = bs.index"
   ]
  },
  {
   "cell_type": "code",
   "execution_count": 20,
   "id": "f7ff511e",
   "metadata": {},
   "outputs": [],
   "source": [
    "minimal_bs_text_1 = bs[[\"index\", \"title\"]]\n",
    "minimal_bs_text_2 = bs[[\"index\", \"title\"]]"
   ]
  },
  {
   "cell_type": "code",
   "execution_count": 21,
   "id": "8a7d326d",
   "metadata": {},
   "outputs": [],
   "source": [
    "minimal_bs_text_1 = minimal_bs_text_1.rename(columns = {\"title\": \"Text 1\", \"index\": \"Publication Order 1\"})\n",
    "minimal_bs_text_2 = minimal_bs_text_2.rename(columns = {\"title\": \"Text 2\", \"index\": \"Publication Order 2\"})"
   ]
  },
  {
   "cell_type": "code",
   "execution_count": 22,
   "id": "d47a9610",
   "metadata": {},
   "outputs": [],
   "source": [
    "bl = bl.merge(minimal_bs_text_1, on=\"Text 1\")\n",
    "bl = bl.merge(minimal_bs_text_2, on=\"Text 2\")"
   ]
  },
  {
   "cell_type": "code",
   "execution_count": 23,
   "id": "6b674b7b",
   "metadata": {},
   "outputs": [],
   "source": [
    "links_to_nonexisting_books_mask = bl[\"Publication Order 1\"].isna() | bl[\"Publication Order 2\"].isna()\n",
    "links_to_nonexisting_books_entries = bl[links_to_nonexisting_books_mask]\n",
    "\n",
    "bl.drop(links_to_nonexisting_books_entries.index, inplace=True)"
   ]
  },
  {
   "cell_type": "code",
   "execution_count": 24,
   "id": "7673de64",
   "metadata": {},
   "outputs": [],
   "source": [
    "text_date_diff = bl[\"Publication Order 1\"] - bl[\"Publication Order 2\"]"
   ]
  },
  {
   "cell_type": "code",
   "execution_count": 25,
   "id": "a8777ab6",
   "metadata": {},
   "outputs": [],
   "source": [
    "if not {\"Text Title\", \"Cited Text Title\"}.issubset(bl.columns):\n",
    "    text_title = np.where(text_date_diff.gt(0), bl[\"Text 1\"], bl[\"Text 2\"])\n",
    "    cited_title = np.where(text_date_diff.le(0), bl[\"Text 1\"], bl[\"Text 2\"])\n",
    "\n",
    "    bl.insert(0, \"Text Title\", text_title)\n",
    "    bl.insert(1, \"Cited Text Title\", cited_title)\n",
    "\n",
    "    bl.drop([\"Text 1\", \"Text 2\", \"Publication Order 1\", \"Publication Order 2\"], axis=1, inplace=True)"
   ]
  },
  {
   "cell_type": "code",
   "execution_count": null,
   "id": "6d374fa7",
   "metadata": {},
   "outputs": [],
   "source": []
  }
 ],
 "metadata": {
  "kernelspec": {
   "display_name": "Python 3 (ipykernel)",
   "language": "python",
   "name": "python3"
  },
  "language_info": {
   "codemirror_mode": {
    "name": "ipython",
    "version": 3
   },
   "file_extension": ".py",
   "mimetype": "text/x-python",
   "name": "python",
   "nbconvert_exporter": "python",
   "pygments_lexer": "ipython3",
   "version": "3.9.13"
  }
 },
 "nbformat": 4,
 "nbformat_minor": 5
}
